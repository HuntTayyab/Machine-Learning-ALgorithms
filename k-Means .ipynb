{
 "cells": [
  {
   "cell_type": "code",
   "execution_count": 109,
   "metadata": {},
   "outputs": [
    {
     "name": "stdout",
     "output_type": "stream",
     "text": [
      "centrod after iteration- 1 centroid- [[19.0, 15.0], [49.83673469387755, 34.61224489795919], [35.39333333333333, 69.34]]\n",
      "centrod after iteration- 2 centroid- [[19.0, 15.0], [49.83673469387755, 34.61224489795919], [35.39333333333333, 69.34]]\n",
      "\u001b[91m \u001b[1m\n",
      "final centroids- [[19.0, 15.0], [49.83673469387755, 34.61224489795919], [35.39333333333333, 69.34]]\n"
     ]
    },
    {
     "data": {
      "image/png": "[encoded data removed]",
      "text/plain": [
       "<Figure size 432x288 with 1 Axes>"
      ]
     },
     "metadata": {
      "needs_background": "light"
     },
     "output_type": "display_data"
    }
   ],
   "source": [
    "#Loading the required modules\n",
    "from csv import reader\n",
    "import numpy as np\n",
    "from scipy.spatial.distance import cdist \n",
    "from sklearn.decomposition import PCA\n",
    "import matplotlib.pyplot as plt\n",
    "\n",
    "class style: BOLD = '\\033[1m' ; END = '\\033[0m';  WARNING = '\\033[91m';\n",
    "\n",
    "def insert_data(filename):\n",
    "    dataset = list()\n",
    "    with open(filename, 'r') as file:  \n",
    "        csv_reader = reader(file)\n",
    "        for row in csv_reader:\n",
    "            if not row:\n",
    "                continue\n",
    "            dataset.append(row)\n",
    "    return dataset\n",
    "\n",
    "\n",
    "#Defining our function \n",
    "def kmeans(x,k, no_of_iterations):\n",
    "    idx = np.random.choice(len(x), k, replace=False)   #print(len(idx))\n",
    "    centroids=[]\n",
    "    for i in range(len(idx)):\n",
    "        centroids.append(x[i])\n",
    "    \n",
    "   #finding the distance between centroids and all the data points\n",
    "    distances = cdist(x, centroids ,'euclidean') #Step 2     #print(distances)\n",
    "     \n",
    "    #Centroid with the minimum Distance\n",
    "    points = np.array([np.argmin(i) for i in distances]) #Step 3  #print(points)\n",
    "     \n",
    "    for i in range(len(points)):\n",
    "        x[i].append(points[i])  #print(x)\n",
    "        \n",
    "    #Repeating the above steps for a defined number of iterations\n",
    "    #Step 4\n",
    "    it=0\n",
    "    for _ in range(no_of_iterations):\n",
    "        it=it+1\n",
    "        centroids = []\n",
    "        for idx in range(k):\n",
    "            idx=int(idx)\n",
    "            #print(\"idx-\",idx)\n",
    "\n",
    "            #Updating Centroids by taking mean of Cluster it belongs to\n",
    "\n",
    "            C=[k[:2] for k in x if k[-1]==idx]\n",
    "            C=np.array(C)                       #print(idx, C)\n",
    "            temp_cent=C.mean(axis=0)            #print(temp_cent)\n",
    "            centroids.append(list(temp_cent))\n",
    "            \n",
    "        x=np.array(x) ; x1=x[:,0:2]        #print(\"centroids-\",centroids)\n",
    "        \n",
    "        distances = cdist(x1, centroids ,'euclidean')\n",
    "        print(\"centrod after iteration-\",it, \"centroid-\", centroids)\n",
    "        points = np.array([np.argmin(i) for i in distances])\n",
    "    print(style.WARNING, style.BOLD)\n",
    "    print(\"final centroids-\",centroids)     \n",
    "    return points \n",
    " \n",
    "\n",
    "#------------inserting data-------------\n",
    "data = insert_data('bank.csv') \n",
    "arr = np.array(data[1:])\n",
    "\n",
    "#---------filtering data-----------------\n",
    "dataset=[]\n",
    "for i in range (len(arr)):\n",
    "    X1=int(arr[i][2])   #age\n",
    "    X2=int(arr[i][3])   #s\n",
    "    #Y=0 #initial centroid\n",
    "    dataset.append([X1,X2])\n",
    "    \n",
    "   \n",
    "#Applying our function\n",
    "label = kmeans(dataset,3,2)\n",
    "u_labels = np.unique(label) \n",
    "'''\n",
    "for i in range(len(u_labels)):\n",
    "    C=[k for k in dataset if k[-1]==i]\n",
    "    print(\"centroid-\",i)\n",
    "    print(C) \n",
    "'''\n",
    "\n",
    "for i in u_labels:\n",
    "    x_p=[]\n",
    "    y_p=[]\n",
    "    color=['orange', 'b', 'g', 'y', 'r', 'cyan']\n",
    "    mark= ['o', 'x', 's', 'H', '+', 'd']\n",
    "    for t in range (len(dataset)):\n",
    "        if dataset[t][-1] == i:\n",
    "            x_p.append(dataset[t][0])\n",
    "            y_p.append(dataset[t][1])\n",
    "    dt=np.array(dataset)\n",
    "    lab=\"Cluster-\"+str(i)\n",
    "    plt.scatter(x_p, y_p, c=color[i], marker=mark[i], label=lab)\n",
    "    plt.legend(loc='upper right')\n",
    "    plt.xlabel('Age')  # to plot A on X-axis\n",
    "    plt.ylabel('credit score')   #to plot B on Y "
   ]
  },
  {
   "cell_type": "code",
   "execution_count": null,
   "metadata": {},
   "outputs": [],
   "source": []
  }
 ],
 "metadata": {
  "kernelspec": {
   "display_name": "Python 3",
   "language": "python",
   "name": "python3"
  },
  "language_info": {
   "codemirror_mode": {
    "name": "ipython",
    "version": 3
   },
   "file_extension": ".py",
   "mimetype": "text/x-python",
   "name": "python",
   "nbconvert_exporter": "python",
   "pygments_lexer": "ipython3",
   "version": "3.8.5"
  }
 },
 "nbformat": 4,
 "nbformat_minor": 4
}
